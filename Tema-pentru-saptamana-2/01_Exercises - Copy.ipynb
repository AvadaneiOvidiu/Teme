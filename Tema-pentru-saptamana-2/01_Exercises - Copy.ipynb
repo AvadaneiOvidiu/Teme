{
 "cells": [
  {
   "cell_type": "markdown",
   "metadata": {},
   "source": [
    "# Exercises\n",
    "1. Import numpy as np\n",
    "1. create 10 zeroes\n",
    "1. create a vector with values ranging from 10 to 100\n",
    "1. reverse it\n",
    "1. reshape it to a 3x30\n",
    "1. Create the vector with elems 1,2,9,0,0,1,4,0. Find indices of non-zero elems.\n",
    "1. Create a 3x3 identity matrix\n",
    "1. Create a random vector of size 50 with values uniformely distributed in (-1, 1). Find the average of these values.\n",
    "1. create a 5x5 matrix with 1,2,3,4 just below the 1st diag and 0 in rest.\n",
    "1. Create a 5x3 matrix and a 3x4 one. Multiply them. \n",
    "1. Using the previous matrix, extract a new one with just the integer part of the values. Find at least 4 methods of doing this.\n",
    "1. Create a random vector of size 25. Sort it.\n",
    "1. Create a random 7x2 matrix representing 7 2D points. Convert them to polar coordinates.\n",
    "1. Generate a 10x10 matrix. Generate a single random number. Find the number in the matrix closest to it."
   ]
  },
  {
   "cell_type": "code",
   "execution_count": 3,
   "metadata": {},
   "outputs": [],
   "source": [
    "import numpy as np"
   ]
  },
  {
   "cell_type": "code",
   "execution_count": 3,
   "metadata": {},
   "outputs": [
    {
     "name": "stdout",
     "output_type": "stream",
     "text": [
      "[0. 0. 0. 0. 0. 0. 0. 0. 0. 0.]\n"
     ]
    }
   ],
   "source": [
    "A=np.zeros(10)\n",
    "print(A)"
   ]
  },
  {
   "cell_type": "code",
   "execution_count": 5,
   "metadata": {},
   "outputs": [
    {
     "name": "stdout",
     "output_type": "stream",
     "text": [
      "[10 11 12 13 14 15 16 17 18 19 20 21 22 23 24 25 26 27 28 29 30 31 32 33\n",
      " 34 35 36 37 38 39 40 41 42 43 44 45 46 47 48 49 50 51 52 53 54 55 56 57\n",
      " 58 59 60 61 62 63 64 65 66 67 68 69 70 71 72 73 74 75 76 77 78 79 80 81\n",
      " 82 83 84 85 86 87 88 89 90 91 92 93 94 95 96 97 98 99]\n"
     ]
    }
   ],
   "source": [
    "B=np.arange(10,100)\n",
    "print(B)"
   ]
  },
  {
   "cell_type": "code",
   "execution_count": 14,
   "metadata": {},
   "outputs": [
    {
     "name": "stdout",
     "output_type": "stream",
     "text": [
      "[10 11 12 13 14 15 16 17 18 19 20 21 22 23 24 25 26 27 28 29 30 31 32 33\n",
      " 34 35 36 37 38 39 40 41 42 43 44 45 46 47 48 49 50 51 52 53 54 55 56 57\n",
      " 58 59 60 61 62 63 64 65 66 67 68 69 70 71 72 73 74 75 76 77 78 79 80 81\n",
      " 82 83 84 85 86 87 88 89 90 91 92 93 94 95 96 97 98 99]\n"
     ]
    }
   ],
   "source": [
    "l=B.size\n",
    "for i in range(0,l//2):\n",
    "    aux=B[i]\n",
    "    B[i]=B[l-1-i]\n",
    "    B[l-1-i]=aux\n",
    "print(B)"
   ]
  },
  {
   "cell_type": "code",
   "execution_count": 15,
   "metadata": {},
   "outputs": [
    {
     "name": "stdout",
     "output_type": "stream",
     "text": [
      "[[10 11 12 13 14 15 16 17 18 19 20 21 22 23 24 25 26 27 28 29 30 31 32 33\n",
      "  34 35 36 37 38 39]\n",
      " [40 41 42 43 44 45 46 47 48 49 50 51 52 53 54 55 56 57 58 59 60 61 62 63\n",
      "  64 65 66 67 68 69]\n",
      " [70 71 72 73 74 75 76 77 78 79 80 81 82 83 84 85 86 87 88 89 90 91 92 93\n",
      "  94 95 96 97 98 99]]\n"
     ]
    }
   ],
   "source": [
    "C=B.reshape(3,30)\n",
    "print(C)"
   ]
  },
  {
   "cell_type": "code",
   "execution_count": 18,
   "metadata": {},
   "outputs": [
    {
     "data": {
      "text/plain": [
       "[0, 1, 2, 5, 6]"
      ]
     },
     "execution_count": 18,
     "metadata": {},
     "output_type": "execute_result"
    }
   ],
   "source": [
    "D=np.array([1,2,9,0,0,1,4,0])\n",
    "nonzeroindices=[]\n",
    "l=D.size\n",
    "for i in range(0,l):\n",
    "    if D[i]!=0:\n",
    "        nonzeroindices.append(i)\n",
    "list(nonzeroindices)"
   ]
  },
  {
   "cell_type": "code",
   "execution_count": 19,
   "metadata": {},
   "outputs": [
    {
     "name": "stdout",
     "output_type": "stream",
     "text": [
      "[[1. 0. 0.]\n",
      " [0. 1. 0.]\n",
      " [0. 0. 1.]]\n"
     ]
    }
   ],
   "source": [
    "E=np.eye(3)\n",
    "print(E)"
   ]
  },
  {
   "cell_type": "code",
   "execution_count": 43,
   "metadata": {},
   "outputs": [
    {
     "name": "stdout",
     "output_type": "stream",
     "text": [
      "[-0.89655106  0.06190198 -0.66084571  0.76502722  0.56592226  0.14518171\n",
      " -0.67744076 -0.13928958  0.64747014  0.48727392  0.87727111 -0.12200515\n",
      " -0.51120328 -0.28651992 -0.3173374   0.60663015  0.14002362 -0.76811004\n",
      " -0.44788606  0.18539159  0.70863788 -0.1788367   0.24183172  0.5978186\n",
      " -0.2170587   0.83248108  0.75918796 -0.26858669  0.61585719 -0.90716957\n",
      " -0.72491214  0.85062937 -0.85335463  0.05606325  0.89803356  0.96391429\n",
      " -0.29531881  0.11294143 -0.63480831 -0.32079021  0.5751408   0.4939932\n",
      "  0.08806715 -0.33802125  0.84147768 -0.07056039  0.70771427 -0.17896638\n",
      " -0.68780751  0.41884554]\n",
      "0.07482696841705039\n"
     ]
    }
   ],
   "source": [
    "F=np.random.uniform(-1,1,50)\n",
    "average=F.sum()/F.size\n",
    "print(F)\n",
    "print(average)"
   ]
  },
  {
   "cell_type": "code",
   "execution_count": 35,
   "metadata": {},
   "outputs": [
    {
     "name": "stdout",
     "output_type": "stream",
     "text": [
      "[[0 0 0 0 0]\n",
      " [1 0 0 0 0]\n",
      " [0 2 0 0 0]\n",
      " [0 0 3 0 0]\n",
      " [0 0 0 4 0]]\n"
     ]
    }
   ],
   "source": [
    "AUX=np.matrix([1,2,3,4])\n",
    "H=np.diagflat(AUX,-1)\n",
    "print(H)"
   ]
  },
  {
   "cell_type": "code",
   "execution_count": 4,
   "metadata": {},
   "outputs": [
    {
     "name": "stdout",
     "output_type": "stream",
     "text": [
      "[[0.98970701 0.96448038 0.20184158 0.69057957]\n",
      " [0.65098453 0.53864759 0.17956372 0.40859396]\n",
      " [1.33595519 1.22697972 0.74655043 0.51046434]\n",
      " [1.46426738 1.38538282 0.75090595 0.62075518]\n",
      " [1.42299276 1.22179124 0.79299813 0.54179217]]\n"
     ]
    }
   ],
   "source": [
    "A1=np.random.rand(5,3)\n",
    "A2=np.random.rand(3,4)\n",
    "I=np.dot(A1,A2)\n",
    "print(I)"
   ]
  },
  {
   "cell_type": "code",
   "execution_count": 26,
   "metadata": {
    "scrolled": true
   },
   "outputs": [
    {
     "name": "stdout",
     "output_type": "stream",
     "text": [
      "[[0. 0. 0. 0.]\n",
      " [0. 0. 0. 0.]\n",
      " [1. 1. 0. 0.]\n",
      " [1. 1. 0. 0.]\n",
      " [1. 1. 0. 0.]]\n",
      "[[0. 0. 0. 0.]\n",
      " [0. 0. 0. 0.]\n",
      " [1. 1. 0. 0.]\n",
      " [1. 1. 0. 0.]\n",
      " [1. 1. 0. 0.]]\n",
      "[[0. 0. 0. 0.]\n",
      " [0. 0. 0. 0.]\n",
      " [1. 1. 0. 0.]\n",
      " [1. 1. 0. 0.]\n",
      " [1. 1. 0. 0.]]\n",
      "[[0. 0. 0. 0.]\n",
      " [0. 0. 0. 0.]\n",
      " [1. 1. 0. 0.]\n",
      " [1. 1. 0. 0.]\n",
      " [1. 1. 0. 0.]]\n",
      "[[0. 0. 0. 0.]\n",
      " [0. 0. 0. 0.]\n",
      " [1. 1. 0. 0.]\n",
      " [1. 1. 0. 0.]\n",
      " [1. 1. 0. 0.]]\n"
     ]
    }
   ],
   "source": [
    "import math\n",
    "J1=I\n",
    "for i in range(0,5):\n",
    "    for j in range(0,4):\n",
    "        J1[i][j]=math.floor(I[i][j])\n",
    "print(J1)\n",
    "J2=I\n",
    "for i in range(0,5):\n",
    "    for j in range(0,4):\n",
    "        if I[i][j]!=math.trunc(I[i][j]):\n",
    "            if I[i][j]>=0:\n",
    "                J2[i][j]=math.trunc(I[i][j])\n",
    "            else:\n",
    "                J2[i][j]=math.trunc(I[i][j])-1\n",
    "        else:\n",
    "            J2[i][j]=math.trunc(I[i][j])\n",
    "print(J2)\n",
    "J3=I\n",
    "for i in range(0,5):\n",
    "    for j in range(0,4):\n",
    "        c=math.modf(I[i][j])[1]\n",
    "        if c!=I[i][j]:\n",
    "            if I[i][j]>=0:\n",
    "                J3[i][j]=c\n",
    "            else:\n",
    "                J3[i][j]=c-1\n",
    "        else:\n",
    "            J3[i][j]=c\n",
    "print(J3)\n",
    "J4=I\n",
    "for i in range(0,5):\n",
    "    for j in range(0,4):\n",
    "        J4[i][j]=int(I[i][j]//1)\n",
    "print(J4)\n",
    "J5=I\n",
    "for i in range(0,5):\n",
    "    for j in range(0,4):\n",
    "        J5[i][j]=int(divmod(I[i][j],1)[0])\n",
    "print(J5)"
   ]
  },
  {
   "cell_type": "code",
   "execution_count": 50,
   "metadata": {},
   "outputs": [
    {
     "name": "stdout",
     "output_type": "stream",
     "text": [
      "[0.88753754 0.13942576 0.7743082  0.05560733 0.45066226 0.96848762\n",
      " 0.81395458 0.06431492 0.80487191 0.79051674 0.71606467 0.48599127\n",
      " 0.71331677 0.5364959  0.37119885 0.34536535 0.39296723 0.42725586\n",
      " 0.02364259 0.34723262 0.98539589 0.32691842 0.57782824 0.07524961\n",
      " 0.65127192]\n",
      "[0.02364259 0.05560733 0.06431492 0.07524961 0.13942576 0.32691842\n",
      " 0.34536535 0.34723262 0.37119885 0.39296723 0.42725586 0.45066226\n",
      " 0.48599127 0.5364959  0.57782824 0.65127192 0.71331677 0.71606467\n",
      " 0.7743082  0.79051674 0.80487191 0.81395458 0.88753754 0.96848762\n",
      " 0.98539589]\n"
     ]
    }
   ],
   "source": [
    "v=np.random.rand(25)\n",
    "print(v)\n",
    "v.sort()\n",
    "print(v)"
   ]
  },
  {
   "cell_type": "code",
   "execution_count": 76,
   "metadata": {},
   "outputs": [
    {
     "name": "stdout",
     "output_type": "stream",
     "text": [
      "[[0.32774021 0.72457248]\n",
      " [0.52941677 0.589394  ]\n",
      " [0.11619869 0.10567112]\n",
      " [0.34158472 0.07069565]\n",
      " [0.67805505 0.38236664]\n",
      " [0.92893775 0.01613845]\n",
      " [0.70797357 0.05990843]]\n",
      "[[0.79524771 3.56630238]\n",
      " [0.79225464 3.8733604 ]\n",
      " [0.15706216 3.9743309 ]\n",
      " [0.34882373 4.50823293]\n",
      " [0.77843618 4.19885025]\n",
      " [0.92907792 4.69494405]\n",
      " [0.71050376 4.62789685]]\n"
     ]
    }
   ],
   "source": [
    "P=np.random.rand(7,2)\n",
    "print(P)\n",
    "def cart2polar(x,y):\n",
    "    if x!=0:\n",
    "        r=(x**2+y**2)**0.5\n",
    "        ti=np.arctan2(1,y/x)\n",
    "        if (r*np.cos(ti)!=x) or (r*np.sin(ti)!=y):\n",
    "            theta=ti+3.141519\n",
    "        else:\n",
    "            theta=ti\n",
    "    else:\n",
    "        if y>0:\n",
    "            theta=3.141519/2\n",
    "        else:\n",
    "            theta=3*3.141519/2\n",
    "    if theta<0:\n",
    "        theta+=2*3.141519\n",
    "    v=[r,theta]\n",
    "    return v\n",
    "for i in range(0,7):\n",
    "    v=cart2polar(P[i][0],P[i][1])\n",
    "    P[i][0]=v[0]\n",
    "    P[i][1]=v[1]\n",
    "print(P)\n",
    "    "
   ]
  },
  {
   "cell_type": "code",
   "execution_count": 80,
   "metadata": {},
   "outputs": [
    {
     "name": "stdout",
     "output_type": "stream",
     "text": [
      "[[0.36694549 0.78051561 0.79775511 0.40821353 0.55361231 0.58856164\n",
      "  0.60114662 0.23237742 0.41873976 0.41454483]\n",
      " [0.39982003 0.70103665 0.38638217 0.07011508 0.41863661 0.55132248\n",
      "  0.82026434 0.8930564  0.71863913 0.65678828]\n",
      " [0.16406094 0.76276873 0.6023835  0.90148425 0.2120247  0.77690835\n",
      "  0.2881073  0.42148967 0.3230994  0.08650378]\n",
      " [0.75218164 0.02396592 0.92333104 0.97833784 0.66647238 0.60202583\n",
      "  0.73824375 0.73129073 0.57012501 0.83752759]\n",
      " [0.03679563 0.36615279 0.82204452 0.01297969 0.50722477 0.99732533\n",
      "  0.68065174 0.94266007 0.72870126 0.96429183]\n",
      " [0.46126116 0.5725474  0.36358025 0.53320532 0.09133274 0.49805913\n",
      "  0.20782866 0.70838485 0.42011129 0.77943941]\n",
      " [0.41474844 0.33806885 0.1332009  0.19918549 0.04563131 0.02287705\n",
      "  0.28900763 0.85432946 0.48864464 0.53709826]\n",
      " [0.66467238 0.75988444 0.40302339 0.19146553 0.43954403 0.14458962\n",
      "  0.81410891 0.70676453 0.11992632 0.55982243]\n",
      " [0.76504232 0.02608198 0.35132779 0.23680184 0.10625385 0.88537334\n",
      "  0.84352189 0.73983197 0.69775875 0.81996155]\n",
      " [0.61580862 0.99332939 0.68916839 0.25978925 0.07552989 0.97787775\n",
      "  0.77688505 0.37574423 0.66675906 0.21043752]]\n",
      "[[0.54745107]]\n",
      "0\n"
     ]
    }
   ],
   "source": [
    "M=np.random.rand(10,10);\n",
    "x=np.random.rand(1,1);\n",
    "def absolute(y):\n",
    "    if y>=0:\n",
    "        return y\n",
    "    else:\n",
    "        return -y\n",
    "d=-1\n",
    "t=0\n",
    "for i in range(0,10):\n",
    "    for j in range(0,10):\n",
    "        if absolute(x-M[i][j])<d:\n",
    "            t=M[i][j]\n",
    "print(M)\n",
    "print(x)\n",
    "print(t)\n"
   ]
  }
 ],
 "metadata": {
  "kernelspec": {
   "display_name": "Python 3",
   "language": "python",
   "name": "python3"
  },
  "language_info": {
   "codemirror_mode": {
    "name": "ipython",
    "version": 3
   },
   "file_extension": ".py",
   "mimetype": "text/x-python",
   "name": "python",
   "nbconvert_exporter": "python",
   "pygments_lexer": "ipython3",
   "version": "3.7.0"
  }
 },
 "nbformat": 4,
 "nbformat_minor": 2
}
